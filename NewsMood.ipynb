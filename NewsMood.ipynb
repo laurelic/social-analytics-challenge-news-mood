{
 "cells": [
  {
   "cell_type": "markdown",
   "metadata": {},
   "source": [
    "# News Mood Challenge"
   ]
  },
  {
   "cell_type": "code",
   "execution_count": 1,
   "metadata": {},
   "outputs": [],
   "source": [
    "#import necessary modules and info\n",
    "import tweepy\n",
    "import numpy as np\n",
    "import pandas as pd\n",
    "from datetime import datetime\n",
    "import matplotlib.pyplot as plt\n",
    "from matplotlib import style\n",
    "style.use('ggplot')\n",
    "\n",
    "from vaderSentiment.vaderSentiment import SentimentIntensityAnalyzer\n",
    "analyzer = SentimentIntensityAnalyzer()\n",
    "\n",
    "from config import (consumer_key, \n",
    "                    consumer_secret, \n",
    "                    access_token, \n",
    "                    access_token_secret)"
   ]
  },
  {
   "cell_type": "code",
   "execution_count": 2,
   "metadata": {},
   "outputs": [],
   "source": [
    "#authenticate tweepy\n",
    "auth = tweepy.OAuthHandler(consumer_key, consumer_secret)\n",
    "auth.set_access_token(access_token, access_token_secret)\n",
    "api = tweepy.API(auth, parser=tweepy.parsers.JSONParser())"
   ]
  },
  {
   "cell_type": "code",
   "execution_count": 3,
   "metadata": {},
   "outputs": [],
   "source": [
    "#compile list of twitter handles through which to loop\n",
    "handles = [\"@BBCNews\", \"@CBSNews\", \"@CNN\", \"@FoxNews\", \"@nytimes\"]\n",
    "\n",
    "#create a list to hold dictionaries of the sentiment analysis resules\n",
    "s_scores = []\n",
    "\n",
    "#create a variable to store the oldest tweet id for the loop\n",
    "ot = None"
   ]
  },
  {
   "cell_type": "code",
   "execution_count": 6,
   "metadata": {},
   "outputs": [],
   "source": [
    "#loop through the news organizations\n",
    "for handle in handles:\n",
    "    \n",
    "    #create counter for tabulating tweets\n",
    "    c = 1\n",
    "    \n",
    "    #loop through 5 pages (20 tweets per page) of tweets to acquire 100 tweets\n",
    "    for x in range(5):\n",
    "        tweets = api.user_timeline(handle, max_id = ot)\n",
    "    \n",
    "        #loop through the tweets themselves\n",
    "        for t in tweets:\n",
    "            \n",
    "            #run Vader analysis on the tweet\n",
    "            scores = analyzer.polarity_scores(t[\"text\"])\n",
    "            \n",
    "            #add dictionary of scores to the list along with the media source date stamp\n",
    "            s_scores.append({\"Media Source\": t[\"user\"][\"name\"],\n",
    "                            \"Date\": t[\"created_at\"], \n",
    "                           \"Compound\": scores[\"compound\"],\n",
    "                           \"Positive\": scores[\"pos\"],\n",
    "                           \"Negative\": scores[\"neu\"],\n",
    "                           \"Neutral\": scores[\"neg\"],\n",
    "                           \"Tweets Ago\": c})\n",
    "            \n",
    "            # store the tweet id in the oldest tweet variable and subtract 1 to continue iteration\n",
    "            ot = t['id'] - 1\n",
    "            \n",
    "            #increase the counter to document the next tweet\n",
    "            c += 1            "
   ]
  },
  {
   "cell_type": "code",
   "execution_count": 15,
   "metadata": {},
   "outputs": [
    {
     "data": {
      "text/html": [
       "<div>\n",
       "<style scoped>\n",
       "    .dataframe tbody tr th:only-of-type {\n",
       "        vertical-align: middle;\n",
       "    }\n",
       "\n",
       "    .dataframe tbody tr th {\n",
       "        vertical-align: top;\n",
       "    }\n",
       "\n",
       "    .dataframe thead th {\n",
       "        text-align: right;\n",
       "    }\n",
       "</style>\n",
       "<table border=\"1\" class=\"dataframe\">\n",
       "  <thead>\n",
       "    <tr style=\"text-align: right;\">\n",
       "      <th></th>\n",
       "      <th>Media Source</th>\n",
       "      <th>Date</th>\n",
       "      <th>Tweets Ago</th>\n",
       "      <th>Compound</th>\n",
       "      <th>Negative</th>\n",
       "      <th>Neutral</th>\n",
       "      <th>Positive</th>\n",
       "    </tr>\n",
       "  </thead>\n",
       "  <tbody>\n",
       "    <tr>\n",
       "      <th>0</th>\n",
       "      <td>BBC News (UK)</td>\n",
       "      <td>Wed Jul 25 22:15:45 +0000 2018</td>\n",
       "      <td>1</td>\n",
       "      <td>0.0</td>\n",
       "      <td>1.0</td>\n",
       "      <td>0.0</td>\n",
       "      <td>0.0</td>\n",
       "    </tr>\n",
       "    <tr>\n",
       "      <th>1</th>\n",
       "      <td>BBC News (UK)</td>\n",
       "      <td>Wed Jul 25 21:58:52 +0000 2018</td>\n",
       "      <td>2</td>\n",
       "      <td>0.0</td>\n",
       "      <td>1.0</td>\n",
       "      <td>0.0</td>\n",
       "      <td>0.0</td>\n",
       "    </tr>\n",
       "    <tr>\n",
       "      <th>2</th>\n",
       "      <td>BBC News (UK)</td>\n",
       "      <td>Wed Jul 25 21:55:10 +0000 2018</td>\n",
       "      <td>3</td>\n",
       "      <td>0.0</td>\n",
       "      <td>1.0</td>\n",
       "      <td>0.0</td>\n",
       "      <td>0.0</td>\n",
       "    </tr>\n",
       "    <tr>\n",
       "      <th>3</th>\n",
       "      <td>BBC News (UK)</td>\n",
       "      <td>Wed Jul 25 21:55:08 +0000 2018</td>\n",
       "      <td>4</td>\n",
       "      <td>0.0</td>\n",
       "      <td>1.0</td>\n",
       "      <td>0.0</td>\n",
       "      <td>0.0</td>\n",
       "    </tr>\n",
       "    <tr>\n",
       "      <th>4</th>\n",
       "      <td>BBC News (UK)</td>\n",
       "      <td>Wed Jul 25 21:55:06 +0000 2018</td>\n",
       "      <td>5</td>\n",
       "      <td>0.0</td>\n",
       "      <td>1.0</td>\n",
       "      <td>0.0</td>\n",
       "      <td>0.0</td>\n",
       "    </tr>\n",
       "  </tbody>\n",
       "</table>\n",
       "</div>"
      ],
      "text/plain": [
       "    Media Source                            Date  Tweets Ago  Compound  \\\n",
       "0  BBC News (UK)  Wed Jul 25 22:15:45 +0000 2018           1       0.0   \n",
       "1  BBC News (UK)  Wed Jul 25 21:58:52 +0000 2018           2       0.0   \n",
       "2  BBC News (UK)  Wed Jul 25 21:55:10 +0000 2018           3       0.0   \n",
       "3  BBC News (UK)  Wed Jul 25 21:55:08 +0000 2018           4       0.0   \n",
       "4  BBC News (UK)  Wed Jul 25 21:55:06 +0000 2018           5       0.0   \n",
       "\n",
       "   Negative  Neutral  Positive  \n",
       "0       1.0      0.0       0.0  \n",
       "1       1.0      0.0       0.0  \n",
       "2       1.0      0.0       0.0  \n",
       "3       1.0      0.0       0.0  \n",
       "4       1.0      0.0       0.0  "
      ]
     },
     "execution_count": 15,
     "metadata": {},
     "output_type": "execute_result"
    }
   ],
   "source": [
    "#convert the list of dictionaries containing the scores into a DataFrame\n",
    "spd = pd.DataFrame(s_scores)\n",
    "spd = spd[[\"Media Source\", \"Date\", \"Tweets Ago\", \"Compound\", \"Negative\", \"Neutral\", \"Positive\"]]\n",
    "spd.head()"
   ]
  },
  {
   "cell_type": "code",
   "execution_count": 11,
   "metadata": {},
   "outputs": [],
   "source": [
    "#export the DataFrame to a csv\n",
    "spd.to_csv(\"100tweets_by_org.csv\")"
   ]
  },
  {
   "cell_type": "code",
   "execution_count": null,
   "metadata": {},
   "outputs": [],
   "source": [
    "\n"
   ]
  }
 ],
 "metadata": {
  "kernelspec": {
   "display_name": "Python 3",
   "language": "python",
   "name": "python3"
  },
  "language_info": {
   "codemirror_mode": {
    "name": "ipython",
    "version": 3
   },
   "file_extension": ".py",
   "mimetype": "text/x-python",
   "name": "python",
   "nbconvert_exporter": "python",
   "pygments_lexer": "ipython3",
   "version": "3.6.4"
  }
 },
 "nbformat": 4,
 "nbformat_minor": 2
}
